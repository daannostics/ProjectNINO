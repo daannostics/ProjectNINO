{
 "cells": [
  {
   "cell_type": "code",
   "execution_count": 87,
   "id": "2221be36",
   "metadata": {},
   "outputs": [],
   "source": [
    "import ipywidgets as widgets\n",
    "import pandas as pd\n",
    "import numpy as np\n",
    "from IPython.display import display\n",
    "import matplotlib.pyplot as plt\n",
    "import time\n",
    "from IPython.display import display, clear_output\n",
    "import threading\n",
    "import turtle\n",
    "import scipy.integrate as spi\n",
    "import warnings\n",
    "import math\n",
    "warnings.filterwarnings('ignore')\n",
    "from IPython.display import display, clear_output"
   ]
  },
  {
   "cell_type": "code",
   "execution_count": 32,
   "id": "c3faa2d0",
   "metadata": {},
   "outputs": [],
   "source": [
    "#!jupyter nbextension enable --py widgetsnbextension --sys-prefix\n",
    "#!jupyter serverextension enable voila --sys-prefix"
   ]
  },
  {
   "cell_type": "code",
   "execution_count": 91,
   "id": "f8d80753",
   "metadata": {},
   "outputs": [],
   "source": [
    "C_X0 = 0.1  # gX/L or 1e-4 mass fraction\n",
    "C_S0 = 100  # gS/L or 0.1 mass fraction\n",
    "Y = 0.4     # kgX/kgS\n",
    "mu_max_hour = 0.1  # 1/h\n",
    "k_d_hour = 0.01 # 1/h\n",
    "K_S = 3.76    # kgS/m3\n",
    "C_S_in = 1560 # kg/m3 (pure glucose in)\n",
    "V_0 = 202   # ml\n",
    "F_0 = 0     # ml/s\n",
    "activation = 0\n",
    "set_point = 0.25     # kg/m3\n",
    "Yp = 0.15 #kgP/kgS\n",
    "Ypace = 0.15 #kgP/kgS\n",
    "C_P0 = 0 #gP/L\n",
    "C_Pace0 = 0 #gP/L"
   ]
  },
  {
   "cell_type": "code",
   "execution_count": 196,
   "id": "8c4dd608",
   "metadata": {},
   "outputs": [],
   "source": [
    "def BioReactor(tf,C_X0,C_S0,Y,mu_max_hour,k_d_hour,K_S,C_S_in,V_0,F_0,activation, Fin, t_act, Yp, C_P0, C_Pace0,Ypace,pH0):\n",
    "    t0 = 0\n",
    "    dt = 1\n",
    "    tf=tf*3600\n",
    "    molarmass_acid=60.05\n",
    "    Ka_acid=1.8*10**-5\n",
    "    C_X = C_X0\n",
    "    C_S = C_S0\n",
    "    C_P =C_P0\n",
    "    C_Pace =C_Pace0\n",
    "    pH =pH0\n",
    "    t = t0\n",
    "    V = V_0/10**6\n",
    "    F = F_0/10**6\n",
    "    mu_max=mu_max_hour/3600\n",
    "    k_d=k_d_hour/3600\n",
    "\n",
    "    C_X_v, C_S_v, t_v, V_v, F_v, activation_v, C_P_v, C_Pace_v, pH_v = [C_X], [C_S], [t], [V], [F], [activation],[C_P],[C_Pace],[pH]\n",
    "    mu_v, rX_v, rS_v, rXg_v, rXd_v = [], [], [], [], []\n",
    "    while t < tf:\n",
    "        \n",
    "        # Check if there is activation of the pump\n",
    "        if t % (t_act*3600) == 0 :\n",
    "            activation = 1\n",
    "            F  = Fin/10**6  # kg/m3/s\n",
    "        else:\n",
    "            activation = 0\n",
    "            F = 0\n",
    "\n",
    "        # Compute rates\n",
    "        mu = mu_max*C_S/(C_S+K_S)\n",
    "        rXg = mu * C_X\n",
    "        rXd = k_d * C_X\n",
    "        rX = rXg - rXd\n",
    "        rS = -1/Y * rXg\n",
    "        rP = -Yp * rS\n",
    "        rPace = -Ypace * rS\n",
    "\n",
    "        # Compute derivatives\n",
    "        dXdt = rX-F/V*C_X\n",
    "        dSdt = F/V*(C_S_in-C_S)+rS\n",
    "        dVdt = F\n",
    "        dPdt = rP-F/V*C_P\n",
    "        dPacedt = rPace-F/V*C_Pace\n",
    "        \n",
    "        \n",
    "        # Update results\n",
    "        t += dt\n",
    "        C_X += dXdt*dt\n",
    "        C_S += dSdt*dt\n",
    "        V += dVdt*dt\n",
    "        C_P += dPdt*dt\n",
    "        C_Pace += dPacedt*dt\n",
    "        C_ph=C_Pace/molarmass_acid\n",
    "        sqrt1=math.sqrt(10**-7+(Ka_acid*C_ph))\n",
    "        pH=-1*math.log(sqrt1)\n",
    "        if C_Pace==0:\n",
    "            pH=7\n",
    "        else:\n",
    "            pass\n",
    "\n",
    "        # Store results\n",
    "        C_X_v.append(C_X)\n",
    "        C_S_v.append(C_S)\n",
    "        C_P_v.append(C_P)\n",
    "        C_Pace_v.append(C_Pace)\n",
    "        pH_v.append(pH)\n",
    "        t_v.append(t)\n",
    "        V_v.append(V*10**6)\n",
    "        F_v.append(F*10**6)                                    \n",
    "        mu_v.append(mu)\n",
    "        rS_v.append(rS)\n",
    "        rX_v.append(rX)\n",
    "        rXg_v.append(rXg)\n",
    "        rXd_v.append(rXd)\n",
    "        activation_v.append(activation)\n",
    "    #mu_v=mu_v[::3600]\n",
    "    t_plot = [t/24/3600 for t in t_v]\n",
    "    mu_plot = [mu*3600 for mu in mu_v]\n",
    "    fig, ((ax1,ax2),(ax3,ax4)) = plt.subplots(2,2,figsize=(15,15))\n",
    "    ax1.plot(t_plot,C_S_v,'r-',t_plot,C_X_v, t_plot,C_P_v,t_plot,C_Pace_v,'g-',linewidth=2)\n",
    "    ax1.legend(['C_S','C_X','C_P','C_acetate'])\n",
    "    ax1.set(xlabel='Time (days)', ylabel='Concentration (kg/$m^3$)')\n",
    "\n",
    "    ax2.plot(t_plot, pH_v,linewidth=2)\n",
    "    ax2.set(xlabel='Time (days)', ylabel='pH')\n",
    "    ax2.legend(['pH of reactor'])\n",
    "\n",
    "    ax3.plot(t_plot[:-1],mu_plot,'y-',linewidth=2)\n",
    "    ax3.set(xlabel='Time (days)', ylabel='$\\mu$ (1/h)')\n",
    "\n",
    "    lns1 = ax4.plot(t_plot,F_v,linewidth=2,label='Flowrate') \n",
    "    ax4.set(xlabel='Time (days)', ylabel='Flowrate (ml/s)')\n",
    "    ax5 = ax4.twinx()\n",
    "    lns2 = ax5.plot(t_plot[1:],V_v[1:],'g-',linewidth=2,label='Volume')\n",
    "    ax5.set_ylabel('Volume (mL)')\n",
    "    ax4.ticklabel_format(axis=\"y\", style='sci', scilimits=(0,0))\n",
    "    lns = lns1+lns2\n",
    "    labs = [l.get_label() for l in lns]\n",
    "    ax4.legend(lns,labs,loc=0)\n",
    "    print(math.sqrt(Ka_acid*C_ph))\n"
   ]
  },
  {
   "cell_type": "code",
   "execution_count": 193,
   "id": "04c004bd",
   "metadata": {},
   "outputs": [
    {
     "data": {
      "application/vnd.jupyter.widget-view+json": {
       "model_id": "cab4bad48a7741548a5e66cc47354821",
       "version_major": 2,
       "version_minor": 0
      },
      "text/plain": [
       "Image(value=b'\\xff\\xd8\\xff\\xe0\\x00\\x10JFIF\\x00\\x01\\x01\\x01\\x00\\xc0\\x00\\xc0\\x00\\x00\\xff\\xe1\\x00\"Exif\\x00\\x00MM\\…"
      ]
     },
     "metadata": {},
     "output_type": "display_data"
    }
   ],
   "source": [
    "file = open(\"Project_nino.jpg\", \"rb\")\n",
    "image = file.read()\n",
    "\n",
    "image_headline = widgets.Image(\n",
    "                    value=image,\n",
    "                    format='jpg',\n",
    "                    width='250'\n",
    "                )\n",
    "display(image_headline)"
   ]
  },
  {
   "cell_type": "code",
   "execution_count": 197,
   "id": "fe6d923f",
   "metadata": {},
   "outputs": [],
   "source": [
    "style = {'description_width': 'initial'}"
   ]
  },
  {
   "cell_type": "code",
   "execution_count": 198,
   "id": "b6e21557",
   "metadata": {},
   "outputs": [
    {
     "data": {
      "application/vnd.jupyter.widget-view+json": {
       "model_id": "c62a53569f264746ae18f5df6d2d0052",
       "version_major": 2,
       "version_minor": 0
      },
      "text/plain": [
       "interactive(children=(BoundedFloatText(value=24.0, description='Total time (h):', max=864000.0, step=1.0, styl…"
      ]
     },
     "metadata": {},
     "output_type": "display_data"
    }
   ],
   "source": [
    "Bioreactor_final = widgets.interact(BioReactor, tf=widgets.BoundedFloatText(value=24, min=0, max=3600*24*10,step=1, description='Total time (h):',style=style, disabled=False), C_X0=widgets.BoundedFloatText(value=50, min=0, max=100.0,step=0.1, description='Biomass concentration (g/L):',style=style, disabled=False), C_S0=widgets.BoundedFloatText(value=0, min=0, max=100.0,step=0.1, description='Concentration glucose (g/L):',style=style, disabled=False), Y=widgets.BoundedFloatText(value=0.4, min=0, max=1.0,step=0.1, description='Yield:',style=style, disabled=False), mu_max_hour=widgets.BoundedFloatText(value=0.1, min=0, max=10.0,step=0.01, description='mu_max (1/h):',style=style, disabled=False), K_S=widgets.BoundedFloatText(value=3.6, min=0, max=10.0,step=0.01, description='K_S (kg s/m3):',style=style, disabled=False), C_S_in=widgets.BoundedFloatText(value=800, min=0, max=910,step=1, description='glucose concentration in feed (kg/m3):',style=style, disabled=False), V_0=widgets.BoundedFloatText(value=50, min=0, max=100,step=1, description='Volume (ml):',style=style, disabled=False), F_0=widgets.BoundedFloatText(value=0, min=0, max=5,step=0.1, description='Feed volume (ml):',style=style, disabled=False), k_d_hour=widgets.BoundedFloatText(value=0.01, min=0, max=0.1,step=0.001, description='K_d (1/h):',style=style, disabled=False), Fin=widgets.BoundedFloatText(value=0.5, min=0, max=5,step=0.01, description='Feed in (ml):',style=style, disabled=False), t_act=widgets.BoundedFloatText(value=4, min=0, max=20,step=0.1, description='Activation interval (h):',style=style, disabled=False), activation=0, Yp=widgets.BoundedFloatText(value=0.4, min=0, max=1.0,step=0.1, description='Yield (P/S):',style=style, disabled=False), C_P0=widgets.BoundedFloatText(value=0, min=0, max=100.0,step=0.1, description='Concentration ethanol (g/L):',style=style, disabled=False),Ypace=widgets.BoundedFloatText(value=0.4, min=0, max=1.0,step=0.1, description='Yield (actetate/S):',style=style, disabled=False), C_Pace0=widgets.BoundedFloatText(value=0, min=0, max=100.0,step=0.1, description='Concentration acetate (g/L):',style=style, disabled=False), pH0=widgets.BoundedFloatText(value=7, min=0, max=14.0,step=0.1, description='pH:',style=style, disabled=False) );"
   ]
  },
  {
   "cell_type": "code",
   "execution_count": null,
   "id": "cb88b9a0",
   "metadata": {},
   "outputs": [],
   "source": []
  },
  {
   "cell_type": "code",
   "execution_count": null,
   "id": "81e278ec",
   "metadata": {},
   "outputs": [],
   "source": []
  },
  {
   "cell_type": "code",
   "execution_count": null,
   "id": "337cb9c5",
   "metadata": {},
   "outputs": [],
   "source": []
  }
 ],
 "metadata": {
  "kernelspec": {
   "display_name": "Python 3 (ipykernel)",
   "language": "python",
   "name": "python3"
  },
  "language_info": {
   "codemirror_mode": {
    "name": "ipython",
    "version": 3
   },
   "file_extension": ".py",
   "mimetype": "text/x-python",
   "name": "python",
   "nbconvert_exporter": "python",
   "pygments_lexer": "ipython3",
   "version": "3.9.12"
  }
 },
 "nbformat": 4,
 "nbformat_minor": 5
}
