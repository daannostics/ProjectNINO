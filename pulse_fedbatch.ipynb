{
 "cells": [
  {
   "cell_type": "code",
   "execution_count": 1,
   "id": "2221be36",
   "metadata": {},
   "outputs": [],
   "source": [
    "import ipywidgets as widgets\n",
    "import pandas as pd\n",
    "import numpy as np\n",
    "import matplotlib.pyplot as plt\n",
    "import math"
   ]
  },
  {
   "cell_type": "code",
   "execution_count": 2,
   "id": "c3faa2d0",
   "metadata": {},
   "outputs": [],
   "source": [
    "#!jupyter nbextension enable --py widgetsnbextension --sys-prefix\n",
    "#!jupyter serverextension enable voila --sys-prefix\n",
    "#git init\n",
    "#git config user.name \"someone\"\n",
    "#git config user.email \"someone@someplace.com\"\n",
    "#git add *\n",
    "#git commit -m \"some init msg\""
   ]
  },
  {
   "cell_type": "code",
   "execution_count": 3,
   "id": "f8d80753",
   "metadata": {},
   "outputs": [],
   "source": [
    "C_X0 = 0.1  # gX/L or 1e-4 mass fraction\n",
    "C_S0 = 100  # gS/L or 0.1 mass fraction\n",
    "Y = 0.4     # kgX/kgS\n",
    "mu_max_hour = 0.1  # 1/h\n",
    "k_d_hour = 0.01 # 1/h\n",
    "K_S = 3.76    # kgS/m3\n",
    "C_S_in = 1560 # kg/m3 (pure glucose in)\n",
    "V_0 = 202   # ml\n",
    "F_0 = 0     # ml/s\n",
    "activation = 0\n",
    "set_point = 0.25     # kg/m3\n",
    "Yp = 0.15 #kgP/kgS\n",
    "Ypace = 0.15 #kgP/kgS\n",
    "C_P0 = 0 #gP/L\n",
    "C_Pace0 = 0 #gP/L"
   ]
  },
  {
   "cell_type": "code",
   "execution_count": 42,
   "id": "8c4dd608",
   "metadata": {},
   "outputs": [],
   "source": [
    "def BioReactor(tf,C_X0,C_S0,Y,mu_max_hour,k_d_hour,K_S,K_Pace, K_Peth,C_S_in,V_0,F_0, Fin_S,t_act_S, Yp, C_P0, C_Pace0,Ypace, Ypco2):\n",
    "    t0 = 0\n",
    "    dt = 1\n",
    "    tf=tf*3600\n",
    "    molarmass_acid=60.05\n",
    "    Ka_acid=1.8*10**-5\n",
    "    Kb_ace=5.6*10**-10\n",
    "    C_X = C_X0\n",
    "    C_S = C_S0\n",
    "    C_P =C_P0\n",
    "    C_Pace =C_Pace0\n",
    "    V_co2=0\n",
    "    C_co2=0\n",
    "    t = t0\n",
    "    V = V_0/10**6\n",
    "    F = F_0/10**6\n",
    "    F_S = F_0/10**6\n",
    "    mu_max=mu_max_hour/3600\n",
    "    k_d=k_d_hour/3600\n",
    "    activation=0\n",
    "    check=-1\n",
    "    warning=0\n",
    "    density_co2=1.808 #kg/m3\n",
    "    KH=0.037*44 #g/l*atmosphere\n",
    "\n",
    "    C_X_v, C_S_v, t_v, V_v, F_v, F_S_v, C_P_v, C_Pace_v, V_co2_v, C_co2_v = [C_X], [C_S], [t], [V], [F],[F_S],[C_P],[C_co2],[C_Pace],[V_co2]\n",
    "    mu_v, rX_v, rS_v, rXg_v, rXd_v = [], [], [], [], []\n",
    "    while t < tf:\n",
    "        check=check+1\n",
    "        # Check if there is activation of the pump1\n",
    "        if t % (t_act_S*3600) == 0 :\n",
    "            activation = 1\n",
    "            F_S  = Fin_S/10**6  # kg/m3/s\n",
    "        else:\n",
    "            activation = 0\n",
    "            F_S = 0\n",
    "        F=F_S\n",
    "        \n",
    "\n",
    "        # Compute rates\n",
    "        mu = mu_max*C_S/(C_S+K_S)*(K_Pace/(C_Pace+K_Pace))*(K_Peth/(C_P+K_Peth))\n",
    "        rXg = mu * C_X\n",
    "        rXd = k_d * C_X\n",
    "        rX = rXg - rXd\n",
    "        rS = -1/Y * rXg\n",
    "        rP = -Yp * rS\n",
    "        rPace = -Ypace * rS\n",
    "        rPco2 = -Ypco2 * rS\n",
    "\n",
    "        # Compute derivatives\n",
    "        dXdt = rX-F/V*C_X\n",
    "        dSdt = F/V*(C_S_in-C_S)+rS\n",
    "        dVdt = F\n",
    "        dPdt = rP-F/V*C_P\n",
    "        dPacedt = rPace-F/V*C_Pace\n",
    "        dPco2dt = rPco2\n",
    "        \n",
    "        \n",
    "        # Update results\n",
    "        t += dt\n",
    "        C_X += dXdt*dt\n",
    "        C_S += dSdt*dt\n",
    "        V += dVdt*dt\n",
    "        C_P += dPdt*dt\n",
    "        C_Pace += dPacedt*dt\n",
    "        C_co2+=dPco2dt*dt\n",
    "        if C_co2<KH:\n",
    "            V_co2+=0\n",
    "        else:\n",
    "            V_co2+= ((C_co2-KH)*V)/density_co2\n",
    "        \n",
    "        #C_NAOH+=dNAOHdt*dt\n",
    "        #C_ph=C_Pace/molarmass_acid\n",
    "        #OH-\n",
    "        #C_pH_NAOH=C_NAOH/molarmass_NAOH\n",
    "        #H3O+\n",
    "        #sqrt1=math.sqrt(Ka_acid*C_ph)\n",
    "        #sqrt2=math.sqrt(Kb_ace*C_ph)\n",
    "        \n",
    "        #if C_ph==0 and C_NAOH==0:\n",
    "        #    pH=7\n",
    "        #elif C_ph==0 and C_NAOH!=0:\n",
    "        #    pH=14-math.log10(C_pH_NAOH)\n",
    "        #elif C_ph!=0 and C_NAOH==0:\n",
    "        #    pH=-1*math.log10(sqrt1)\n",
    "        #elif C_pH_NAOH>C_ph:\n",
    "        #    pH=14-1*math.log10(C_pH_NAOH-C_ph)\n",
    "        #elif C_pH_NAOH==C_ph:\n",
    "        #    pH=14-math.log10(sqrt)\n",
    "        #else:\n",
    "        #    pH=-1*math.log10(Ka_acid)+math.log10(C_pH_NAOH/sqrt1)\n",
    "        \n",
    "        #if C_pH_NAOH>C_ph:\n",
    "        #    warning=warning+1\n",
    "        #else:\n",
    "        #    pass\n",
    "                \n",
    "        # Store results\n",
    "        C_X_v.append(C_X)\n",
    "        C_S_v.append(C_S)\n",
    "        C_P_v.append(C_P)\n",
    "        C_Pace_v.append(C_Pace)\n",
    "        V_co2_v.append(V_co2)\n",
    "        C_co2_v.append(C_co2)\n",
    "        #C_NAOH_v.append(C_NAOH)\n",
    "        #pH_v.append(pH)\n",
    "        t_v.append(t)\n",
    "        V_v.append(V*10**6)\n",
    "        F_v.append(F*10**6)\n",
    "        F_S_v.append(F_S*10**6)   \n",
    "        #F_NAOH_v.append(F_NAOH*10**6)   \n",
    "        mu_v.append(mu)\n",
    "        rS_v.append(rS)\n",
    "        rX_v.append(rX)\n",
    "        rXg_v.append(rXg)\n",
    "        rXd_v.append(rXd)\n",
    "        \n",
    "    #mu_v=mu_v[::3600]\n",
    "   \n",
    "    t_plot = [t/24/3600 for t in t_v]\n",
    "    mu_plot = [mu*3600 for mu in mu_v]\n",
    "    fig, ((ax1,ax2),(ax3,ax4)) = plt.subplots(2,2,figsize=(15,15))\n",
    "    ax1.plot(t_plot,C_S_v,'r-',t_plot,C_X_v, t_plot,C_P_v,t_plot,C_Pace_v,'g-',linewidth=2)\n",
    "    ax1.legend(['Concentration glucose','Concentration biomass','Concentration ethanol','Concentration acetate'])\n",
    "    ax1.set(xlabel='Time (days)', ylabel='Concentration (kg/$m^3$)',title='Concentration of different compounds in N.I.N.O.')\n",
    "\n",
    "    #ax2.plot(t_plot, pH_v,linewidth=2)\n",
    "    #ax2.plot([0,tf/(3600*24)],[6,6], color='r')\n",
    "    #ax2.plot([0,tf/(3600*24)],[8,8], color='r')\n",
    "    #ax2.set(xlabel='Time (days)', ylabel='pH', title='pH in the reactor over time'+title_ph)\n",
    "    #ax2.legend(['pH of reactor','pH threshold'])\n",
    "    \n",
    "    ax2.plot(t_plot, V_co2_v,linewidth=2)\n",
    "    ax2.set(xlabel='Time (days)', ylabel='Total off gas volume (ml)', title='Total offgass volume')\n",
    "\n",
    "    ax3.plot(t_plot[:-1],mu_plot,'y-',linewidth=2)\n",
    "    ax3.set(xlabel='Time (days)', ylabel='$\\mu$ (1/h)', title='Growth rate over time')\n",
    "    \n",
    "    ax4.set_title('Volume and flowrate of N.I.N.O')\n",
    "    ax4.scatter(t_plot,F_v,linewidth=2,label='Flowrate') \n",
    "    ax4.set(xlabel='Time (days)', ylabel='Flowrate (ml/s)')\n",
    "    ax4.legend(loc=6)\n",
    "    ax5=ax4.twinx()\n",
    "    ax5.plot(t_plot[1:],V_v[1:],'g-',linewidth=2,label='Volume')\n",
    "    ax5.set_ylabel('Volume (mL)')\n",
    "    ax5.ticklabel_format(axis=\"y\")\n",
    "    ax5.legend(loc=5)\n",
    "    #lns = lns1+lns2\n",
    "    #labs = [l.get_label() for l in lns]\n",
    "    #ax4.legend(lns,labs,loc=0)\n",
    "    print(C_co2)"
   ]
  },
  {
   "cell_type": "code",
   "execution_count": 43,
   "id": "04c004bd",
   "metadata": {},
   "outputs": [
    {
     "data": {
      "application/vnd.jupyter.widget-view+json": {
       "model_id": "1e8ba71486994826837b03d125c4c3c7",
       "version_major": 2,
       "version_minor": 0
      },
      "text/plain": [
       "Image(value=b'\\xff\\xd8\\xff\\xe0\\x00\\x10JFIF\\x00\\x01\\x01\\x01\\x00\\xc0\\x00\\xc0\\x00\\x00\\xff\\xe1\\x00\"Exif\\x00\\x00MM\\…"
      ]
     },
     "metadata": {},
     "output_type": "display_data"
    }
   ],
   "source": [
    "file = open(\"Project_nino.jpg\", \"rb\")\n",
    "image = file.read()\n",
    "\n",
    "image_headline = widgets.Image(\n",
    "                    value=image,\n",
    "                    format='jpg',\n",
    "                    width='250'\n",
    "                )\n",
    "display(image_headline)"
   ]
  },
  {
   "cell_type": "code",
   "execution_count": 44,
   "id": "c908fe27",
   "metadata": {},
   "outputs": [
    {
     "name": "stdout",
     "output_type": "stream",
     "text": [
      "Welcome to the Growth calculator of Project N.I.N.O.! \n",
      "This growth calculator is used to research the playability of a certain design. \n",
      "The calculator will project the most important parameters of growth of the micro organism.\n",
      "Fill in the parameters below to find the best biological design for the N.I.N.O.\n",
      "Note: parameters need to be changed to see something happening\n"
     ]
    }
   ],
   "source": [
    "file = open(\"introduction.txt\", \"r\")\n",
    "content = file.read()\n",
    "print(content)"
   ]
  },
  {
   "cell_type": "code",
   "execution_count": 45,
   "id": "fe6d923f",
   "metadata": {},
   "outputs": [],
   "source": [
    "style = {'description_width': 'initial'}"
   ]
  },
  {
   "cell_type": "code",
   "execution_count": 46,
   "id": "b6e21557",
   "metadata": {},
   "outputs": [],
   "source": [
    "Bioreactor_final = widgets.interactive(BioReactor, tf=widgets.BoundedFloatText(value=72, min=0, max=3600*24*10,step=1, description='Total time (h):', style=style, disabled=False),\n",
    "                                       C_X0=widgets.BoundedFloatText(value=0.1, min=0, max=100.0,step=0.1, description='Biomass concentration (g/L):',style=style, disabled=False),\n",
    "                                       C_S0=widgets.BoundedFloatText(value=0, min=0, max=100.0,step=0.1, description='Concentration glucose (g/L):',style=style, disabled=False),\n",
    "                                       Y=widgets.BoundedFloatText(value=0.1, min=0, max=1.0,step=0.1, description='Yield:',style=style, disabled=False), \n",
    "                                       mu_max_hour=widgets.BoundedFloatText(value=0.44, min=0, max=10.0,step=0.01, description='mu_max (1/h):',style=style, disabled=False),\n",
    "                                       K_S=widgets.BoundedFloatText(value=2.94, min=0, max=10.0,step=0.01, description='K_S (kg s/m3):',style=style, disabled=False),\n",
    "                                       K_Pace=widgets.BoundedFloatText(value=25, min=0, max=30.0,step=0.01, description='K_P (kg/m3):',style=style, disabled=False),\n",
    "                                       K_Peth=widgets.BoundedFloatText(value=20, min=0, max=30.0,step=0.01, description='K_P (kg/m3):',style=style, disabled=False),\n",
    "                                       C_S_in=widgets.BoundedFloatText(value=500, min=0, max=910,step=1, description='glucose concentration in feed (kg/m3):',style=style, disabled=False),\n",
    "                                       V_0=widgets.BoundedFloatText(value=50, min=0, max=100,step=1, description='Volume (ml):',style=style, disabled=False),\n",
    "                                       F_0=widgets.BoundedFloatText(value=0, min=0, max=5,step=0.1, description='Feed volume (ml):',style=style, disabled=False),\n",
    "                                       k_d_hour=widgets.BoundedFloatText(value=0.01, min=0, max=0.1,step=0.001, description='K_d (1/h):',style=style, disabled=False),\n",
    "                                       Fin_S=widgets.BoundedFloatText(value=0.5, min=0, max=5,step=0.01, description='Feed glucose solution in (ml):',style=style, disabled=False),\n",
    "                                       t_act_S=widgets.BoundedFloatText(value=2, min=0, max=20,step=0.1, description='Activation interval substrate(h):',style=style, disabled=False),\n",
    "                                       Yp=widgets.BoundedFloatText(value=0.12, min=0, max=1.0,step=0.1, description='Yield (ethanol/S):',style=style, disabled=False),\n",
    "                                       C_P0=widgets.BoundedFloatText(value=0, min=0, max=100.0,step=0.1, description='Concentration ethanol (g/L):',style=style, disabled=False),\n",
    "                                       Ypace=widgets.BoundedFloatText(value=0.18, min=0, max=1.0,step=0.01, description='Yield (actetate/S):',style=style, disabled=False),\n",
    "                                       Ypco2=widgets.BoundedFloatText(value=0.02, min=0, max=1.0,step=0.01, description='Yield (CO2/S):',style=style, disabled=False),\n",
    "                                       C_Pace0=widgets.BoundedFloatText(value=0, min=0, max=100.0,step=0.1, description='Concentration acetate (g/L):',style=style, disabled=False),\n",
    "                                       );"
   ]
  },
  {
   "cell_type": "code",
   "execution_count": 47,
   "id": "3bc70cbf",
   "metadata": {
    "scrolled": false
   },
   "outputs": [
    {
     "data": {
      "application/vnd.jupyter.widget-view+json": {
       "model_id": "e42b3e3bd0aa4b578d91c7bc346a0ad4",
       "version_major": 2,
       "version_minor": 0
      },
      "text/plain": [
       "VBox(children=(HBox(children=(BoundedFloatText(value=72.0, description='Total time (h):', max=864000.0, step=1…"
      ]
     },
     "metadata": {},
     "output_type": "display_data"
    }
   ],
   "source": [
    "controls = widgets.HBox(Bioreactor_final.children[:-1], layout = widgets.Layout(flex_flow='row wrap'))\n",
    "output = Bioreactor_final.children[-1]\n",
    "display(widgets.VBox([controls, output]))"
   ]
  },
  {
   "cell_type": "code",
   "execution_count": null,
   "id": "3052f950",
   "metadata": {},
   "outputs": [],
   "source": []
  },
  {
   "cell_type": "code",
   "execution_count": null,
   "id": "05a5c173",
   "metadata": {},
   "outputs": [],
   "source": []
  }
 ],
 "metadata": {
  "kernelspec": {
   "display_name": "Python 3 (ipykernel)",
   "language": "python",
   "name": "python3"
  },
  "language_info": {
   "codemirror_mode": {
    "name": "ipython",
    "version": 3
   },
   "file_extension": ".py",
   "mimetype": "text/x-python",
   "name": "python",
   "nbconvert_exporter": "python",
   "pygments_lexer": "ipython3",
   "version": "3.9.12"
  }
 },
 "nbformat": 4,
 "nbformat_minor": 5
}
